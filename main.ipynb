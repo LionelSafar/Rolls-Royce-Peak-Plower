{
 "cells": [
  {
   "cell_type": "code",
   "execution_count": 2,
   "metadata": {},
   "outputs": [
    {
     "name": "stdout",
     "output_type": "stream",
     "text": [
      "pygame 2.5.2 (SDL 2.28.3, Python 3.9.18)\n",
      "Hello from the pygame community. https://www.pygame.org/contribute.html\n"
     ]
    }
   ],
   "source": [
    "import os\n",
    "import numpy as np\n",
    "import matplotlib.pyplot as plt\n",
    "import seaborn as sns\n",
    "import pandas as pd\n",
    "import torch\n",
    "from torch import nn\n",
    "from torch import optim\n",
    "import torch.nn.functional as F\n",
    "from collections import deque\n",
    "import random\n",
    "import pickle\n",
    "import pygame\n",
    "try:\n",
    "    import gym\n",
    "except ImportError:\n",
    "    %pip install gym\n",
    "    import gym\n"
   ]
  },
  {
   "cell_type": "code",
   "execution_count": 3,
   "metadata": {},
   "outputs": [],
   "source": [
    "sns.set_theme(style='whitegrid')\n",
    "os.environ[\"KMP_DUPLICATE_LIB_OK\"] = \"TRUE\"  # else gives error when trying to plot"
   ]
  },
  {
   "cell_type": "markdown",
   "metadata": {},
   "source": [
    "## 1. Define Environment by Gymnasium\n",
    "\n",
    "[Environment Details](https://gymnasium.farama.org/environments/classic_control/mountain_car/)\n",
    "\n",
    "Full Example on Github of the [Mountain Car](https://github.com/guillaumefrd/q-learning-mountain-car)"
   ]
  },
  {
   "cell_type": "code",
   "execution_count": 4,
   "metadata": {},
   "outputs": [],
   "source": [
    "env = gym.make('MountainCar-v0', render_mode='human')"
   ]
  },
  {
   "cell_type": "code",
   "execution_count": 20,
   "metadata": {},
   "outputs": [
    {
     "name": "stdout",
     "output_type": "stream",
     "text": [
      "Action space: Discrete(3)\n",
      "Observation space: Box([-1.2  -0.07], [0.6  0.07], (2,), float32)\n",
      "Number of actions available: 3\n",
      "Observation shape: (2,)\n"
     ]
    }
   ],
   "source": [
    "print(f\"Action space: {env.action_space}\")\n",
    "print(f\"Observation space: {env.observation_space}\")\n",
    "print(f\"Number of actions available: {env.action_space.n}\")\n",
    "print(f\"Observation shape: {env.observation_space.shape}\")"
   ]
  },
  {
   "cell_type": "markdown",
   "metadata": {},
   "source": [
    "#### <span style=\"text-decoration:underline;\">Explanations:</span>\n",
    "- Observation space:\n",
    "    - [-1.2 0.6] position range (in m)\n",
    "    - [-0.07 0.07] velocity range (in v = m/s)\n",
    "    - 2dim phase space (x-v-space)\n",
    "- Actions:\n",
    "    - 0: Accelerate to left\n",
    "    - 1: Don't accelerate\n",
    "    - 2: Accelerate to right\n",
    "### <span style=\"text-decoration:underline;\">Transition dynamics:</span>\n",
    "<span style=\"text-decoration:underline;\">Variables:</span>\n",
    "\n",
    "Force $F$, action $a$, position $x$, velocity $v$, time (discrete) $t$, gravity $g$\n",
    "\n",
    "The transition dynamics then reads:\n",
    "$$\n",
    "\\begin{align}\n",
    "v_{t+1} &= v_t + (a - 1)F - \\cos(3x_t)g\\\\ \n",
    "x_{t+1} &= x_t + v_{t+1}\n",
    "\\end{align}\n",
    "$$\n",
    "\n",
    "Physical explanation:\n",
    "- $ (a - 1) \\implies$: -1: left, 0; no acceleration; +1: right acceleration; magnitude $F$\n",
    "- Physically, the dimensions are an acceleration (setting $m=1$ and having a force balance of $\\Delta v = v_{t+1}-v_t$)\n",
    "- The last term is gravitational force, where the angle is expressed as $\\alpha=3x$\n",
    "\n",
    "#### <span style=\"text-decoration:underline;\">Notes</span>\n",
    "- From what I've seen the default reward setting is -1 per time step where the goal yields 0 reward\n",
    "- Environment acts stochastically -> require to define bins for space / velocity to assort values to a state"
   ]
  },
  {
   "cell_type": "markdown",
   "metadata": {},
   "source": [
    "## First steps\n",
    "- Initialise a random Agent to take random movements\n",
    "- save duration for each episode -> reward count can be used for this\n",
    "- Define a run function, to run an agent for $x$ episodes in the environment and to select training and / or rendering"
   ]
  },
  {
   "cell_type": "code",
   "execution_count": 71,
   "metadata": {},
   "outputs": [],
   "source": [
    "class RandomAgent:\n",
    "    def __init__(self, input_states):\n",
    "        self.action_space = env.action_space\n",
    "        self.states = input_states\n",
    "        self.pos_space = np.linspace(-1.2, 0.6, self.states)\n",
    "        self.vel_space = np.linspace(-0.07, 0.07, self.states)\n",
    "\n",
    "    def observe(self, state, action, next_state, reward, terminated): \n",
    "        pass\n",
    "    \n",
    "    def select_action(self, state):\n",
    "        return self.action_space.sample() # take a random action\n",
    "\n",
    "    def update(self, step_count):\n",
    "        pass"
   ]
  },
  {
   "cell_type": "code",
   "execution_count": 72,
   "metadata": {},
   "outputs": [],
   "source": [
    "def run(agent, episodes, render=False, truncate=-1000):\n",
    "    \"\"\"\n",
    "    Run the Agent through the environment\n",
    "    :param episodes: number of episodes to run the algorithm\n",
    "    :param render: boolean to render the environment or not\n",
    "    :param truncate: truncate the episode if it is too long, set as 1000 steps -> noting reward = -1 per step except goal state\n",
    "    :return: rewards_per_episode: rewards obtained per episode\n",
    "    \"\"\"\n",
    "    \n",
    "    # load the environment and discretize the state space\n",
    "    env = gym.make('MountainCar-v0', render_mode='human' if render else None)\n",
    "\n",
    "    # memory for rewards per episode\n",
    "    rewards_per_episode = np.zeros(episodes)\n",
    "\n",
    "    step_count = 0 # tracking the number of steps taken in the environment -> used for syncing policy_net -> target_net \n",
    "    \n",
    "    for i in range(episodes):\n",
    "        state = env.reset()[0] # reset to initial state\n",
    "        rewards = 0\n",
    "        \n",
    "        # discretize the state space and overwrite the state\n",
    "        state_p = np.digitize(state[0], agent.pos_space)\n",
    "        state_v = np.digitize(state[1], agent.vel_space)\n",
    "        state = [state_p, state_v]\n",
    "\n",
    "        terminated = False \n",
    "\n",
    "        while not terminated:\n",
    "            action = agent.select_action(state) # select action based on agent's policy\n",
    "            next_state, reward, terminated, _, _ = env.step(action) # take action \n",
    "\n",
    "            agent.observe(state, action, next_state, reward, terminated) # update agent's memory -> add to replay buffer\n",
    "            # discretize next state and update state\n",
    "            next_state_p = np.digitize(next_state[0], agent.pos_space) \n",
    "            next_state_v = np.digitize(next_state[1], agent.vel_space)\n",
    "            next_state = [next_state_p, next_state_v]\n",
    "\n",
    "            agent.update(step_count) # update agent's policy based on observed transition\n",
    "\n",
    "            state = next_state # update state\n",
    "\n",
    "            rewards += reward # accumulate rewards\n",
    "            step_count += 1\n",
    "            # truncate the episode if it is too long, set as 1000 steps -> noting reward = -1 per step except goal state\n",
    "            if rewards < truncate:\n",
    "                break \n",
    "            \n",
    "        rewards_per_episode[i] = rewards # store rewards per episode\n",
    "    \n",
    "    env.close()\n",
    "    return rewards_per_episode"
   ]
  },
  {
   "cell_type": "code",
   "execution_count": 73,
   "metadata": {},
   "outputs": [
    {
     "name": "stderr",
     "output_type": "stream",
     "text": [
      "c:\\Users\\Lione\\anaconda3\\lib\\site-packages\\gym\\utils\\passive_env_checker.py:233: DeprecationWarning: `np.bool8` is a deprecated alias for `np.bool_`.  (Deprecated NumPy 1.24)\n",
      "  if not isinstance(terminated, (bool, np.bool8)):\n"
     ]
    },
    {
     "data": {
      "image/png": "[encoded data removed]",
      "text/plain": [
       "<Figure size 640x480 with 1 Axes>"
      ]
     },
     "metadata": {},
     "output_type": "display_data"
    }
   ],
   "source": [
    "# run the random Agent 100 times and plot rewards\n",
    "random_agent = RandomAgent(input_states=20)\n",
    "truncate_list = [-500, -1000, -5000, -10000]\n",
    "steps = []\n",
    "\n",
    "fig, ax = plt.subplots()\n",
    "\n",
    "for truncate in truncate_list:\n",
    "    rewards = run(random_agent, 100, truncate=truncate)\n",
    "    steps.append(np.abs(rewards))\n",
    "\n",
    "    # plot steps taken of current episode\n",
    "    ax.scatter(np.arange(1, 101), np.abs(rewards), label=f'threshold: {truncate}')\n",
    "\n",
    "#ax.hlines(np.abs(5000), 0, 100, colors='red', linestyles='dashed', label='threshold') --> In case we want to plot a threshold line\n",
    "ax.set(xlabel='Episode', ylabel='Reward', title='Random Agent')\n",
    "\n",
    "plt.legend()\n",
    "plt.show()"
   ]
  },
  {
   "cell_type": "code",
   "execution_count": 8,
   "metadata": {},
   "outputs": [],
   "source": [
    "#run(random_agent, 1, render=True) --> In case we want to render the environment"
   ]
  },
  {
   "cell_type": "markdown",
   "metadata": {},
   "source": [
    "## 2. Define NN class, to initialise for DQN with tunable hidden layers and neuron number"
   ]
  },
  {
   "cell_type": "code",
   "execution_count": 74,
   "metadata": {},
   "outputs": [],
   "source": [
    "# Define Network class for DQN with 1 hidden layer and relu activation\n",
    "class DQN(nn.Module):\n",
    "    def __init__(self, input_states, out_actions, hidden_layers=2, hidden_nodes=64):\n",
    "        super(DQN, self).__init__()\n",
    "\n",
    "        self.hidden_layers = nn.ModuleList([nn.Linear(input_states, hidden_nodes)])\n",
    "        self.hidden_layers.extend([nn.Linear(hidden_nodes, hidden_nodes) for i in range(hidden_layers-1)])\n",
    "        self.out = nn.Linear(hidden_nodes, out_actions)\n",
    "    \n",
    "    def forward(self, x):\n",
    "        for layer in self.hidden_layers:\n",
    "            x = F.relu(layer(x))\n",
    "        x = self.out(x)\n",
    "        return x"
   ]
  },
  {
   "cell_type": "markdown",
   "metadata": {},
   "source": [
    "## 3. Define Agent"
   ]
  },
  {
   "cell_type": "code",
   "execution_count": 75,
   "metadata": {},
   "outputs": [],
   "source": [
    "def state_to_tensorstate(state)->torch.Tensor:\n",
    "    \"\"\"\n",
    "    Convert state to tensor state for input to the network\n",
    "    :param state: state to convert - Note that the digitized state is required here\n",
    "    :param pos_space: position space\n",
    "    :param vel_space: velocity space\n",
    "    :return: tensor state\n",
    "    \"\"\"\n",
    "\n",
    "    input_tensor = torch.zeros(len(pos_space) ** 2)\n",
    "    state_index = x_index * len(pos_space) + v_index\n",
    "    input_tensor[state_index] = 1 # one hot encoding of state\n",
    "    return input_tensor\n"
   ]
  },
  {
   "cell_type": "code",
   "execution_count": 179,
   "metadata": {},
   "outputs": [],
   "source": [
    "class DQNAgent:\n",
    "    def __init__(self, Q, gamma, epsilon, R, batch_size, learning_rate, sync_rate, input_states=20, optimizer=optim.AdamW): \n",
    "        # Initialize agent\n",
    "        self.action_space = env.action_space\n",
    "        self.optimizer = optimizer(Q.parameters(), lr=learning_rate)\n",
    "        self.memory = deque([], maxlen=R) # replay buffer\n",
    "        self.epsilon = epsilon # exploration rate\n",
    "        self.gamma = gamma # discount factor\n",
    "        self.batch_size = batch_size # batch size for training\n",
    "        self.states = env.observation_space.shape[0] # number of states\n",
    "        self.sync_rate = sync_rate # rate at which to sync policy network with target network  \n",
    "        self.loss = nn.MSELoss() # loss function\n",
    "        self.pos_space = np.linspace(-1.2, 0.6, input_states) # discretized position space\n",
    "        self.vel_space = np.linspace(-0.07, 0.07, input_states) # discretized velocity space\n",
    "        \n",
    "        # Initialize Q-networks\n",
    "        self.policy_net = Q\n",
    "        self.target_net = Q\n",
    "        \n",
    "    def observe(self, state, action, next_state, reward, terminated):\n",
    "        # Update agent's internal memory with observed transition\n",
    "        self.memory.append((state, action, next_state, reward, terminated))\n",
    "        \n",
    "    def select_action(self, state):\n",
    "        # Select action based on epsilon-greedy policy -> returns action\n",
    "        if np.random.rand() < self.epsilon: # explore with probability epsilon\n",
    "            action = self.action_space.sample()\n",
    "        else:\n",
    "            with torch.no_grad(): # no need to calculate gradients\n",
    "                state_tensor = torch.FloatTensor([state])\n",
    "                action = torch.argmax(self.policy_net(state_tensor)).item() # exploit with probability 1-epsilon from policy network\n",
    "                \n",
    "        return action\n",
    "        \n",
    "    def update(self, t):\n",
    "        # Update agent's policy based on observed transitions\n",
    "\n",
    "        # sync policy network with target network each sync_rate steps\n",
    "        if t>=self.sync_rate:\n",
    "            self.target_net.load_state_dict(self.policy_net.state_dict())\n",
    "            t = 0\n",
    "\n",
    "        Q_current_list = []\n",
    "        Q_target_list = []\n",
    "\n",
    "        if (len(self.memory) > self.batch_size): # return if not enough samples in memory\n",
    "            mini_batch = random.sample(self.memory, self.batch_size) # sample mini-batch from memory\n",
    "            for state, action, next_state, reward, terminated in mini_batch:\n",
    "                # set target to be the reward + discounted future reward\n",
    "                if terminated:\n",
    "                    target = torch.FloatTensor([reward]) # if terminated, target is the reward!\n",
    "                else:\n",
    "                    with torch.no_grad():\n",
    "                        next_state_tensor = torch.FloatTensor([next_state])\n",
    "                        target = reward + self.gamma * torch.max(self.target_net(next_state_tensor))# target is reward + discounted future reward\n",
    "\n",
    "                # calculate the current Q-value and target Q-value \n",
    "                Q_current = self.policy_net(torch.FloatTensor([state])) # current Q-value\n",
    "                Q_current_list.append(Q_current)\n",
    "\n",
    "                Q_target = self.target_net(torch.FloatTensor([state]))\n",
    "                Q_target[0, action] = target \n",
    "                Q_target_list.append(Q_target.detach())\n",
    "\n",
    "            # calculate loss and update policy network\n",
    "\n",
    "            loss = self.loss(torch.stack(Q_current_list), torch.stack(Q_target_list))\n",
    "            self.optimizer.zero_grad()\n",
    "            loss.backward()\n",
    "            self.optimizer.step()\n",
    "            \n",
    "\n"
   ]
  },
  {
   "cell_type": "code",
   "execution_count": 180,
   "metadata": {},
   "outputs": [],
   "source": [
    "# Initialize DQN agent + network\n",
    "Q = DQN(input_states=2, out_actions=env.action_space.n, hidden_layers=2, hidden_nodes=64)\n",
    "dqn_agent = DQNAgent(Q=Q, gamma=0.99, epsilon=0.9, R=10000, batch_size=32, learning_rate=0.001, sync_rate=1000)\n",
    "\n",
    "rewards = run(dqn_agent, 5)\n"
   ]
  },
  {
   "cell_type": "code",
   "execution_count": 171,
   "metadata": {},
   "outputs": [
    {
     "data": {
      "text/plain": [
       "2"
      ]
     },
     "execution_count": 171,
     "metadata": {},
     "output_type": "execute_result"
    }
   ],
   "source": [
    "env.observation_space.shape[0]"
   ]
  },
  {
   "cell_type": "code",
   "execution_count": 172,
   "metadata": {},
   "outputs": [
    {
     "name": "stdout",
     "output_type": "stream",
     "text": [
      "[-1001. -1001. -1001. -1001. -1001.]\n"
     ]
    }
   ],
   "source": [
    "print(rewards)"
   ]
  },
  {
   "cell_type": "markdown",
   "metadata": {},
   "source": [
    "## Implementation Q-learning (Example)"
   ]
  },
  {
   "cell_type": "code",
   "execution_count": null,
   "metadata": {},
   "outputs": [
    {
     "name": "stderr",
     "output_type": "stream",
     "text": [
      "c:\\Users\\Lione\\anaconda3\\lib\\site-packages\\gym\\utils\\passive_env_checker.py:233: DeprecationWarning: `np.bool8` is a deprecated alias for `np.bool_`.  (Deprecated NumPy 1.24)\n",
      "  if not isinstance(terminated, (bool, np.bool8)):\n"
     ]
    },
    {
     "data": {
      "image/png": "[encoded data removed]",
      "text/plain": [
       "<Figure size 640x480 with 1 Axes>"
      ]
     },
     "metadata": {},
     "output_type": "display_data"
    }
   ],
   "source": [
    "# Example for normal Q-learning without specifying agent class\n",
    "\n",
    "def run(episodes, is_training=True, render=False): \n",
    "    \"\"\"\"\"\"\"\"\"\n",
    "    Run Q-learning algorithm for MountainCar environment\n",
    "\n",
    "    :param episodes: number of episodes to run the algorithm\n",
    "\n",
    "    :param render: boolean to render the environment or not\n",
    "\n",
    "    :return: None\n",
    "\n",
    "    \"\"\"\"\"\"\"\"\"\n",
    "\n",
    "\n",
    "    env = gym.make('MountainCar-v0', render_mode='human' if render else None)\n",
    "\n",
    "    # divide position and velocity into 20 segments -> 20 states for each\n",
    "    pos_space = np.linspace(-1.2, 0.6, 20)\n",
    "    vel_space = np.linspace(-0.07, 0.07, 20)\n",
    "\n",
    "    # if training initialize Q-table with zeros else load Q-table from file from trained model\n",
    "    if is_training:\n",
    "        q = np.zeros((len(pos_space), len(vel_space), 3)) # initialize Q-table with zeros -> 20x20x3; 3 from action space\n",
    "    else:\n",
    "        f = open('mountain_car.pkl', 'rb') # open file in read mode\n",
    "        q = pickle.load(f)\n",
    "        f.close()\n",
    "    # hyperparameters\n",
    "    learning_rate = 0.9\n",
    "    discount_factor = 0.95\n",
    "    epsilon = 1 # exploration rate -> start at 100% exploration\n",
    "    epsilon_decay =  2 / episodes # at 50% of episodes epsilon will be 0 -> only exploitation\n",
    "\n",
    "    rng = np.random.default_rng() # random number generator, generates numbers in range [0.0, 1.0)\n",
    "\n",
    "    # memory for rewards per episode\n",
    "    rewards_per_episode = np.zeros(episodes)\n",
    "\n",
    "    for episode in range(episodes):\n",
    "        state = env.reset()[0] # reset environment and get initial state of the car as a numpy array\n",
    "        state_p = np.digitize(state[0], pos_space)\n",
    "        state_v = np.digitize(state[1], vel_space)\n",
    "\n",
    "        terminated = False # initialize terminated to False -> goal is not reached\n",
    "\n",
    "        rewards = 0 # initialize rewards to 0\n",
    "        \n",
    "        while(not terminated and rewards>-1000): # loop until goal is reached or rewards are less than -1000 (to avoid infinite loop)\n",
    "\n",
    "            # select action with epsilon-greedy policy\n",
    "            if is_training and rng.random() < epsilon: # if not training take greedy action\n",
    "                action = env.action_space.sample() # take random action\n",
    "            else:\n",
    "                action = np.argmax(q[state_p, state_v, :]) # take action with highest Q-value == greedy action\n",
    "\n",
    "            # observe the next state and reward put in the right state with digitize using epsilong greedy policy\n",
    "            # NOTE: digitize returns the index of the bin to which each value belongs\n",
    "            next_state, reward, terminated, _, _ = env.step(action)\n",
    "            next_state_p = np.digitize(next_state[0], pos_space)\n",
    "            next_state_v = np.digitize(next_state[1], vel_space)\n",
    "\n",
    "            # update Q-table with Q-learning -> updates with greedy policy -- only if training\n",
    "            if is_training:\n",
    "                q[state_p, state_v, action] = q[state_p, state_v, action] + \\\n",
    "                learning_rate * (reward + discount_factor * np.max(q[next_state_p, next_state_v, :]) - q[state_p, state_v, action])\n",
    "\n",
    "            # update state and rewards\n",
    "            state = next_state\n",
    "            state_p = next_state_p\n",
    "            state_v = next_state_v\n",
    "            rewards += reward\n",
    "\n",
    "        # update epsilon\n",
    "        epsilon = max(0, epsilon - epsilon_decay) # ensure epsilon is not negative\n",
    "\n",
    "        rewards_per_episode[episode] = rewards # store rewards for this episode\n",
    "    \n",
    "    env.close()\n",
    "\n",
    "    # Save Q-table\n",
    "    if is_training:\n",
    "        f = open('mountain_car.pkl','wb') # open file in write mode\n",
    "        pickle.dump(q, f)\n",
    "        f.close()\n",
    "    \n",
    "    mean_rewards = np.zeros(episodes)\n",
    "    for i in range(episodes):\n",
    "        mean_rewards[i] = np.mean(rewards_per_episode[max(0, i-50):i+1]) # calculate mean rewards for last 100 episodes -> batches of size 100 to get rewards\n",
    "    steps_used = np.abs(mean_rewards)\n",
    "    plt.plot(steps_used)\n",
    "    plt.xlabel('Episodes')\n",
    "    plt.ylabel('steps')\n",
    "    plt.title('Mountain Car')\n",
    "    plt.show()\n",
    "    #plt.savefig('mountain_car.png')\n",
    "run(10000, render=False)\n"
   ]
  },
  {
   "cell_type": "code",
   "execution_count": null,
   "metadata": {},
   "outputs": [
    {
     "data": {
      "image/png": "[encoded data removed]",
      "text/plain": [
       "<Figure size 640x480 with 1 Axes>"
      ]
     },
     "metadata": {},
     "output_type": "display_data"
    }
   ],
   "source": [
    "# run the trained model\n",
    "run(1, is_training=False, render=True)"
   ]
  },
  {
   "cell_type": "markdown",
   "metadata": {},
   "source": []
  }
 ],
 "metadata": {
  "kernelspec": {
   "display_name": "base",
   "language": "python",
   "name": "python3"
  },
  "language_info": {
   "codemirror_mode": {
    "name": "ipython",
    "version": 3
   },
   "file_extension": ".py",
   "mimetype": "text/x-python",
   "name": "python",
   "nbconvert_exporter": "python",
   "pygments_lexer": "ipython3",
   "version": "3.9.18"
  }
 },
 "nbformat": 4,
 "nbformat_minor": 2
}
