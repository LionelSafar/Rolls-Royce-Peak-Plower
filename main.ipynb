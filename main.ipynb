{
 "cells": [
  {
   "cell_type": "code",
   "execution_count": 13,
   "metadata": {},
   "outputs": [],
   "source": [
    "import os\n",
    "os.environ[\"KMP_DUPLICATE_LIB_OK\"]=\"TRUE\" # else gives error when trying to plot\n",
    "import numpy as np\n",
    "import matplotlib.pyplot as plt\n",
    "import seaborn as sns\n",
    "import pandas as pd\n",
    "import torch\n",
    "import pickle\n",
    "\n",
    "try:\n",
    "    import gym\n",
    "except ImportError:\n",
    "    %pip install gym\n",
    "    import gym"
   ]
  },
  {
   "cell_type": "markdown",
   "metadata": {},
   "source": [
    "## 1. Define Environment by Gymnasium\n",
    "\n",
    "[Environment Details](https://gymnasium.farama.org/environments/classic_control/mountain_car/)\n",
    "\n",
    "Full Example on Github of the [Mountain Car](https://github.com/guillaumefrd/q-learning-mountain-car)"
   ]
  },
  {
   "cell_type": "code",
   "execution_count": 4,
   "metadata": {},
   "outputs": [],
   "source": [
    "env = gym.make('MountainCar-v0', render_mode='human')"
   ]
  },
  {
   "cell_type": "code",
   "execution_count": 5,
   "metadata": {},
   "outputs": [
    {
     "name": "stdout",
     "output_type": "stream",
     "text": [
      "Action space: Discrete(3)\n",
      "Observation space: Box([-1.2  -0.07], [0.6  0.07], (2,), float32)\n",
      "Number of actions available: 3\n",
      "Observation shape: (2,)\n"
     ]
    }
   ],
   "source": [
    "print(f\"Action space: {env.action_space}\")\n",
    "print(f\"Observation space: {env.observation_space}\")\n",
    "print(f\"Number of actions available: {env.action_space.n}\")\n",
    "print(f\"Observation shape: {env.observation_space.shape}\")"
   ]
  },
  {
   "cell_type": "markdown",
   "metadata": {},
   "source": [
    "#### <span style=\"text-decoration:underline;\">Explanations:</span>\n",
    "- Observation space:\n",
    "    - [-1.2 0.6] position range (in m)\n",
    "    - [-0.07 0.07] velocity range (in v = m/s)\n",
    "    - 2dim phase space (x-v-space)\n",
    "- Actions:\n",
    "    - 0: Accelerate to left\n",
    "    - 1: Don't accelerate\n",
    "    - 2: Accelerate to right\n",
    "### <span style=\"text-decoration:underline;\">Transition dynamics:</span>\n",
    "<span style=\"text-decoration:underline;\">Variables:</span>\n",
    "\n",
    "Force $F$, action $a$, position $x$, velocity $v$, time (discrete) $t$, gravity $g$\n",
    "\n",
    "The transition dynamics then reads:\n",
    "$$\n",
    "\\begin{align}\n",
    "v_{t+1} &= v_t + (a - 1)F - \\cos(3x_t)g\\\\ \n",
    "x_{t+1} &= x_t + v_{t+1}\n",
    "\\end{align}\n",
    "$$\n",
    "\n",
    "Physical explanation:\n",
    "- $ (a - 1) \\implies$: -1: left, 0; no acceleration; +1: right acceleration; magnitude $F$\n",
    "- Physically, the dimensions are an acceleration (setting $m=1$ and having a force balance of $\\Delta v = v_{t+1}-v_t$)\n",
    "- The last term is gravitational force, where the angle is expressed as $\\alpha=3x$\n",
    "\n",
    "#### <span style=\"text-decoration:underline;\">Notes</span>\n",
    "- From what I've seen the default reward setting is -1 per time step where the goal yields 0 reward\n",
    "- Environment acts stochastically -> require to define bins for space / velocity to assort values to a state"
   ]
  },
  {
   "cell_type": "code",
   "execution_count": 6,
   "metadata": {},
   "outputs": [],
   "source": [
    "# visualize the environment with random actions\n",
    "#env.reset()\n",
    "#for _ in range(1000):\n",
    "#    env.render()\n",
    "#    env.step(env.action_space.sample()) # take a random action\n",
    "#env.close()"
   ]
  },
  {
   "cell_type": "markdown",
   "metadata": {},
   "source": [
    "## 2. Define Agent"
   ]
  },
  {
   "cell_type": "code",
   "execution_count": 7,
   "metadata": {},
   "outputs": [],
   "source": [
    "class Agent:\n",
    "    def __init__(self, observation_space, action_space): \n",
    "        # Initialize agent with observation space and action space\n",
    "        self.observation_space = observation_space\n",
    "        self.action_space = action_space\n",
    "        \n",
    "    def observe(self, state, action, next_state, reward):\n",
    "        # Update agent's internal memory with observed transition\n",
    "        pass\n",
    "        \n",
    "    def select_action(self, state):\n",
    "        # Select action based on the current state\n",
    "        pass\n",
    "        \n",
    "    def update(self):\n",
    "        # Update agent's policy based on observed transitions\n",
    "        pass"
   ]
  },
  {
   "cell_type": "code",
   "execution_count": 14,
   "metadata": {},
   "outputs": [
    {
     "name": "stderr",
     "output_type": "stream",
     "text": [
      "c:\\Users\\Lione\\anaconda3\\lib\\site-packages\\gym\\utils\\passive_env_checker.py:233: DeprecationWarning: `np.bool8` is a deprecated alias for `np.bool_`.  (Deprecated NumPy 1.24)\n",
      "  if not isinstance(terminated, (bool, np.bool8)):\n"
     ]
    },
    {
     "data": {
      "image/png": "[encoded data removed]",
      "text/plain": [
       "<Figure size 640x480 with 1 Axes>"
      ]
     },
     "metadata": {},
     "output_type": "display_data"
    }
   ],
   "source": [
    "# Example for normal Q-learning without specifying agent class\n",
    "\n",
    "def run(episodes, is_training=True, render=False): \n",
    "    \"\"\"\"\"\"\"\"\"\n",
    "    Run Q-learning algorithm for MountainCar environment\n",
    "\n",
    "    :param episodes: number of episodes to run the algorithm\n",
    "\n",
    "    :param render: boolean to render the environment or not\n",
    "\n",
    "    :return: None\n",
    "\n",
    "    \"\"\"\"\"\"\"\"\"\n",
    "\n",
    "\n",
    "    env = gym.make('MountainCar-v0', render_mode='human' if render else None)\n",
    "\n",
    "    # divide position and velocity into 20 segments -> 20 states for each\n",
    "    pos_space = np.linspace(-1.2, 0.6, 20)\n",
    "    vel_space = np.linspace(-0.07, 0.07, 20)\n",
    "\n",
    "    # if training initialize Q-table with zeros else load Q-table from file from trained model\n",
    "    if is_training:\n",
    "        q = np.zeros((len(pos_space), len(vel_space), 3)) # initialize Q-table with zeros -> 20x20x3; 3 from action space\n",
    "    else:\n",
    "        f = open('mountain_car.pkl', 'rb') # open file in read mode\n",
    "        q = pickle.load(f)\n",
    "        f.close()\n",
    "    # hyperparameters\n",
    "    learning_rate = 0.9\n",
    "    discount_factor = 0.9\n",
    "    epsilon = 1 # exploration rate -> start at 100% exploration\n",
    "    epsilon_decay =  2 / episodes # at 50% of episodes epsilon will be 0 -> only exploitation\n",
    "\n",
    "    rng = np.random.default_rng() # random number generator, generates numbers in range [0.0, 1.0)\n",
    "\n",
    "    # memory for rewards per episode\n",
    "    rewards_per_episode = np.zeros(episodes)\n",
    "\n",
    "    for episode in range(episodes):\n",
    "        state = env.reset()[0] # reset environment and get initial state of the car as a numpy array\n",
    "        state_p = np.digitize(state[0], pos_space)\n",
    "        state_v = np.digitize(state[1], vel_space)\n",
    "\n",
    "        terminated = False # initialize terminated to False -> goal is not reached\n",
    "\n",
    "        rewards = 0 # initialize rewards to 0\n",
    "        \n",
    "        while(not terminated and rewards>-1000): # loop until goal is reached or rewards are less than -1000 (to avoid infinite loop)\n",
    "\n",
    "            # select action with epsilon-greedy policy\n",
    "            if is_training and rng.random() < epsilon: # if not training take greedy action\n",
    "                action = env.action_space.sample() # take random action\n",
    "            else:\n",
    "                action = np.argmax(q[state_p, state_v, :]) # take action with highest Q-value == greedy action\n",
    "\n",
    "            # observe the next state and reward put in the right state with digitize using epsilong greedy policy\n",
    "            # NOTE: digitize returns the index of the bin to which each value belongs\n",
    "            next_state, reward, terminated, _, _ = env.step(action)\n",
    "            next_state_p = np.digitize(next_state[0], pos_space)\n",
    "            next_state_v = np.digitize(next_state[1], vel_space)\n",
    "\n",
    "            # update Q-table with Q-learning -> updates with greedy policy -- only if training\n",
    "            if is_training:\n",
    "                q[state_p, state_v, action] = q[state_p, state_v, action] + \\\n",
    "                learning_rate * (reward + discount_factor * np.max(q[next_state_p, next_state_v, :]) - q[state_p, state_v, action])\n",
    "\n",
    "            # update state and rewards\n",
    "            state = next_state\n",
    "            state_p = next_state_p\n",
    "            state_v = next_state_v\n",
    "            rewards += reward\n",
    "\n",
    "        # update epsilon\n",
    "        epsilon = max(0, epsilon - epsilon_decay) # ensure epsilon is not negative\n",
    "\n",
    "        rewards_per_episode[episode] = rewards # store rewards for this episode\n",
    "    \n",
    "    env.close()\n",
    "\n",
    "    # Save Q-table\n",
    "    if is_training:\n",
    "        f = open('mountain_car.pkl','wb') # open file in write mode\n",
    "        pickle.dump(q, f)\n",
    "        f.close()\n",
    "\n",
    "    mean_rewards = np.zeros(episodes)\n",
    "    for i in range(episodes):\n",
    "        mean_rewards[i] = np.mean(rewards_per_episode[max(0, i-100):i+1]) # calculate mean rewards for last 100 episodes -> batches of size 100 to get rewards\n",
    "    plt.plot(mean_rewards)\n",
    "    plt.xlabel('Episodes')\n",
    "    plt.ylabel('Mean rewards')\n",
    "    plt.title('Mountain Car')\n",
    "    plt.show()\n",
    "    #plt.savefig('mountain_car.png')\n",
    "\n",
    "run(1000, render=False)\n"
   ]
  },
  {
   "cell_type": "code",
   "execution_count": 10,
   "metadata": {},
   "outputs": [
    {
     "name": "stdout",
     "output_type": "stream",
     "text": [
      "[-0.00021446 -0.00021447]\n"
     ]
    }
   ],
   "source": [
    "state = env.reset()[0]\n",
    "s, r, t, _, _= env.step(1)\n",
    "print(state-s)\n"
   ]
  }
 ],
 "metadata": {
  "kernelspec": {
   "display_name": "base",
   "language": "python",
   "name": "python3"
  },
  "language_info": {
   "codemirror_mode": {
    "name": "ipython",
    "version": 3
   },
   "file_extension": ".py",
   "mimetype": "text/x-python",
   "name": "python",
   "nbconvert_exporter": "python",
   "pygments_lexer": "ipython3",
   "version": "3.9.18"
  }
 },
 "nbformat": 4,
 "nbformat_minor": 2
}
