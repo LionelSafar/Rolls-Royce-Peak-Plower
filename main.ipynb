{
 "cells": [
  {
   "cell_type": "code",
   "execution_count": 14,
   "metadata": {},
   "outputs": [],
   "source": [
    "import numpy as np\n",
    "import matplotlib.pyplot as plt\n",
    "import seaborn as sns\n",
    "import pandas as pd\n",
    "import torch\n",
    "try:\n",
    "    import gym\n",
    "except ImportError:\n",
    "    %pip install gym\n",
    "    import gym"
   ]
  },
  {
   "cell_type": "markdown",
   "metadata": {},
   "source": [
    "## 1. Define Environment by Gymnasium\n",
    "\n",
    "[Environment Details](https://gymnasium.farama.org/environments/classic_control/mountain_car/)\n",
    "\n",
    "Full Example on Github of the [Mountain Car](https://github.com/guillaumefrd/q-learning-mountain-car)"
   ]
  },
  {
   "cell_type": "code",
   "execution_count": 15,
   "metadata": {},
   "outputs": [
    {
     "data": {
      "text/plain": [
       "(array([-0.5255964,  0.       ], dtype=float32), {})"
      ]
     },
     "execution_count": 15,
     "metadata": {},
     "output_type": "execute_result"
    }
   ],
   "source": [
    "env = gym.make('MountainCar-v0')\n",
    "env.reset()"
   ]
  },
  {
   "cell_type": "code",
   "execution_count": 16,
   "metadata": {},
   "outputs": [
    {
     "name": "stdout",
     "output_type": "stream",
     "text": [
      "Action space: Discrete(3)\n",
      "Observation space: Box([-1.2  -0.07], [0.6  0.07], (2,), float32)\n",
      "Number of actions available: 3\n",
      "Observation shape: (2,)\n"
     ]
    }
   ],
   "source": [
    "print(f\"Action space: {env.action_space}\")\n",
    "print(f\"Observation space: {env.observation_space}\")\n",
    "print(f\"Number of actions available: {env.action_space.n}\")\n",
    "print(f\"Observation shape: {env.observation_space.shape}\")"
   ]
  },
  {
   "cell_type": "markdown",
   "metadata": {},
   "source": [
    "#### <span style=\"text-decoration:underline;\">Explanations:</span>\n",
    "- Observation space:\n",
    "    - [-1.2 0.6] position range (in m)\n",
    "    - [-0.07 0.07] velocity range (in v = m/s)\n",
    "    - 2dim phase space (x-v-space)\n",
    "- Actions:\n",
    "    - 0: Accelerate to left\n",
    "    - 1: Don't accelerate\n",
    "    - 2: Accelerate to right\n",
    "### <span style=\"text-decoration:underline;\">Transition dynamics:</span>\n",
    "<span style=\"text-decoration:underline;\">Variables:</span>\n",
    "\n",
    "Force $F$, action $a$, position $x$, velocity $v$, time (discrete) $t$, gravity $g$\n",
    "\n",
    "The transition dynamics then reads:\n",
    "$$\n",
    "\\begin{align}\n",
    "v_{t+1} &= v_t + (a - 1)F - \\cos(3x_t)g\\\\ \n",
    "x_{t+1} &= x_t + v_{t+1}\n",
    "\\end{align}\n",
    "$$\n",
    "\n",
    "Physical explanation:\n",
    "- $ (a - 1) \\implies$: -1: left, 0; no acceleration; +1: right acceleration; magnitude $F$\n",
    "- Physically, the dimensions are an acceleration (setting $m=1$ and having a force balance of $\\Delta v = v_{t+1}-v_t$)\n",
    "- The last term is gravitational force, where the angle is expressed as $\\alpha=3x$"
   ]
  },
  {
   "cell_type": "markdown",
   "metadata": {},
   "source": [
    "## 2. Define Agent"
   ]
  },
  {
   "cell_type": "code",
   "execution_count": null,
   "metadata": {},
   "outputs": [],
   "source": [
    "class Agent:\n",
    "    def __init__(self, observation_space, action_space): \n",
    "        # Initialize agent with observation space and action space\n",
    "        self.observation_space = observation_space\n",
    "        self.action_space = action_space\n",
    "        \n",
    "    def observe(self, state, action, next_state, reward):\n",
    "        # Update agent's internal memory with observed transition\n",
    "        pass\n",
    "        \n",
    "    def select_action(self, state):\n",
    "        # Select action based on the current state\n",
    "        pass\n",
    "        \n",
    "    def update(self):\n",
    "        # Update agent's policy based on observed transitions\n",
    "        pass"
   ]
  }
 ],
 "metadata": {
  "kernelspec": {
   "display_name": "base",
   "language": "python",
   "name": "python3"
  },
  "language_info": {
   "codemirror_mode": {
    "name": "ipython",
    "version": 3
   },
   "file_extension": ".py",
   "mimetype": "text/x-python",
   "name": "python",
   "nbconvert_exporter": "python",
   "pygments_lexer": "ipython3",
   "version": "3.9.18"
  }
 },
 "nbformat": 4,
 "nbformat_minor": 2
}
